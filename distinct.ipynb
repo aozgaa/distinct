{
 "cells": [
  {
   "cell_type": "code",
   "execution_count": 1,
   "metadata": {},
   "outputs": [],
   "source": [
    "import math\n",
    "import random"
   ]
  },
  {
   "cell_type": "code",
   "execution_count": 2,
   "metadata": {},
   "outputs": [],
   "source": [
    "def cvm1(xs, eps, delta):\n",
    "    p = 0 # number of random bits to request\n",
    "    X = set()\n",
    "    thresh =  math.floor(12 / (eps ** 2) * math.log(8 * len(xs) / delta))\n",
    "    for x in xs:\n",
    "        X.discard(x)\n",
    "        if(random.getrandbits(p) == 0):\n",
    "            X.add(x)\n",
    "        if(len(X) == thresh):\n",
    "            Y = set()\n",
    "            for x in X:        \n",
    "                if(random.getrandbits(1) == 0):\n",
    "                    Y.add(x)\n",
    "            X = Y\n",
    "            p += 1\n",
    "            if(len(X) == thresh):\n",
    "                return -1\n",
    "    return len(X) * (2**p)\n",
    "\n",
    "def cvm2(xs, eps, delta):\n",
    "    p = 0 # number of random bits to request\n",
    "    X = set()\n",
    "    thresh =  math.floor(12 / (eps ** 2) * math.log(8 * len(xs) / delta))\n",
    "    for x in xs:\n",
    "        X.discard(x)\n",
    "        if(random.getrandbits(p) == 0):\n",
    "            X.add(x)\n",
    "        if(len(X) == thresh):\n",
    "            Y = set()\n",
    "            for x in X:        \n",
    "                if(random.getrandbits(1) == 0):\n",
    "                    Y.add(x)\n",
    "            X = Y\n",
    "            p += 1\n",
    "    return len(X) * (2**p)\n"
   ]
  },
  {
   "cell_type": "code",
   "execution_count": 3,
   "metadata": {},
   "outputs": [],
   "source": [
    "nelts = 72344\n",
    "\n",
    "xs = list(range(nelts))\n",
    "xs = xs * 20"
   ]
  },
  {
   "cell_type": "code",
   "execution_count": 4,
   "metadata": {},
   "outputs": [],
   "source": [
    "res1 = [cvm1(xs, 0.1, 0.1) for i in range(100)]\n",
    "res2 = [cvm1(xs, 0.1, 0.1) for i in range(100)]"
   ]
  },
  {
   "cell_type": "code",
   "execution_count": 19,
   "metadata": {},
   "outputs": [
    {
     "data": {
      "text/plain": [
       "<matplotlib.legend.Legend at 0x20b53a46890>"
      ]
     },
     "execution_count": 19,
     "metadata": {},
     "output_type": "execute_result"
    },
    {
     "data": {
      "image/png": "[encoded data removed]",
      "text/plain": [
       "<Figure size 640x480 with 1 Axes>"
      ]
     },
     "metadata": {},
     "output_type": "display_data"
    }
   ],
   "source": [
    "# Import the libraries\n",
    "import matplotlib.pyplot as plt\n",
    "import seaborn as sns\n",
    "\n",
    "bins = 20\n",
    "\n",
    "plt.hist(sorted(res1), bins, alpha = 0.5, color='g', edgecolor='black', label='cvm1') # color = 'blue', edgecolor = 'black', bins = bins)\n",
    "plt.hist(sorted(res2), bins, alpha = 0.5, color='b', edgecolor='black', label='cvm2') # color = 'green', edgecolor = 'black', bins = bins)\n",
    "\n",
    "# Add labels\n",
    "plt.title('cvm results')\n",
    "plt.xlabel('estimate')\n",
    "plt.ylabel('frequency')\n",
    "plt.axvline(x = nelts, color='r')\n",
    "plt.legend(loc='upper right')"
   ]
  },
  {
   "cell_type": "code",
   "execution_count": null,
   "metadata": {},
   "outputs": [],
   "source": []
  }
 ],
 "metadata": {
  "kernelspec": {
   "display_name": "venv",
   "language": "python",
   "name": "python3"
  },
  "language_info": {
   "codemirror_mode": {
    "name": "ipython",
    "version": 3
   },
   "file_extension": ".py",
   "mimetype": "text/x-python",
   "name": "python",
   "nbconvert_exporter": "python",
   "pygments_lexer": "ipython3",
   "version": "3.10.11"
  }
 },
 "nbformat": 4,
 "nbformat_minor": 2
}
